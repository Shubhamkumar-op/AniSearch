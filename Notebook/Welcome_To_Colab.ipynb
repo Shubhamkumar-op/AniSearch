{
  "cells": [
    {
      "cell_type": "markdown",
      "metadata": {
        "id": "view-in-github",
        "colab_type": "text"
      },
      "source": [
        "<a href=\"https://colab.research.google.com/github/Shubhamkumar-op/AniSearch/blob/main/Welcome_To_Colab.ipynb\" target=\"_parent\"><img src=\"https://colab.research.google.com/assets/colab-badge.svg\" alt=\"Open In Colab\"/></a>"
      ]
    },
    {
      "cell_type": "code",
      "source": [
        "!mkdir -p ~/.kaggle\n",
        "!cp kaggle.json ~/.kaggle/\n",
        "!chmod 600 ~/.kaggle/kaggle.json"
      ],
      "metadata": {
        "id": "dL4DrWqanE-r"
      },
      "execution_count": 1,
      "outputs": []
    },
    {
      "cell_type": "code",
      "source": [
        "!kaggle datasets download -d hernan4444/animeplanet-recommendation-database-2020"
      ],
      "metadata": {
        "id": "DySKeCJNnmTa",
        "outputId": "e15a419b-42e6-4e7a-b049-2b7a302d274a",
        "colab": {
          "base_uri": "https://localhost:8080/"
        }
      },
      "execution_count": 2,
      "outputs": [
        {
          "output_type": "stream",
          "name": "stdout",
          "text": [
            "Dataset URL: https://www.kaggle.com/datasets/hernan4444/animeplanet-recommendation-database-2020\n",
            "License(s): CC0-1.0\n",
            "Downloading animeplanet-recommendation-database-2020.zip to /content\n",
            " 98% 106M/108M [00:07<00:00, 23.4MB/s]\n",
            "100% 108M/108M [00:07<00:00, 16.0MB/s]\n"
          ]
        }
      ]
    },
    {
      "cell_type": "code",
      "source": [
        "from zipfile import ZipFile\n",
        "\n",
        "dataset = '/content/animeplanet-recommendation-database-2020.zip'\n",
        "\n",
        "with ZipFile(dataset, 'r') as zip:\n",
        "  zip.extractall()\n",
        "  print('The dataset is extracted')"
      ],
      "metadata": {
        "id": "-myJ5O7Cn0Vl",
        "outputId": "0a9c6994-7df6-4648-b4a5-3747f1c7baed",
        "colab": {
          "base_uri": "https://localhost:8080/"
        }
      },
      "execution_count": 3,
      "outputs": [
        {
          "output_type": "stream",
          "name": "stdout",
          "text": [
            "The dataset is extracted\n"
          ]
        }
      ]
    },
    {
      "cell_type": "code",
      "source": [
        "import pandas as pd\n",
        "import numpy as np\n",
        "from sklearn.feature_extraction.text import CountVectorizer\n",
        "from sklearn.metrics.pairwise import cosine_similarity"
      ],
      "metadata": {
        "id": "oeeyzSOQoAmM"
      },
      "execution_count": 4,
      "outputs": []
    },
    {
      "cell_type": "code",
      "source": [
        "df = pd.read_csv('/content/anime.csv')\n",
        "df = df.reset_index()\n",
        "df.head()"
      ],
      "metadata": {
        "id": "eV276oeaoIx6",
        "outputId": "9d202385-1fbf-4895-8920-db34241fc2d0",
        "colab": {
          "base_uri": "https://localhost:8080/",
          "height": 677
        }
      },
      "execution_count": 6,
      "outputs": [
        {
          "output_type": "execute_result",
          "data": {
            "text/plain": [
              "   index  Anime-PlanetID                                           Name  \\\n",
              "0      0              10                           The Prince of Tennis   \n",
              "1      1             100                        Neon Genesis Evangelion   \n",
              "2      2            1000              Full Metal Panic! The Second Raid   \n",
              "3      3           10000                 22/7: Shampoo no Nioi ga Shita   \n",
              "4      4           10001  Oshiri Tantei: Puputto Fumutto Kaiketsu Dance   \n",
              "\n",
              "       Alternative Name Rating Score Number Votes  \\\n",
              "0   Tennis no Ouji-sama        4.037        10889   \n",
              "1  Shinseiki Evangelion        4.248        54463   \n",
              "2               Unknown         4.35        23948   \n",
              "3               Unknown          2.8          131   \n",
              "4               Unknown        1.271           21   \n",
              "\n",
              "                                                Tags  \\\n",
              "0  Comedy, Drama, Shounen, Sports, Tennis, Based ...   \n",
              "1  Drama, Mecha, Sci Fi, Conspiracy, Kaijuu, Lone...   \n",
              "2  Action, Comedy, Mecha, Sci Fi, Shounen, Milita...   \n",
              "3                   Idols, School Life, CG Animation   \n",
              "4                                    Family Friendly   \n",
              "\n",
              "                                     Content Warning   Type Episodes  \\\n",
              "0                                            Unknown     TV      178   \n",
              "1  Emotional Abuse, Explicit Violence, Mature The...     TV       26   \n",
              "2                          Explicit Violence, Nudity     TV       13   \n",
              "3                                            Unknown  Music        1   \n",
              "4                                            Unknown    Web        1   \n",
              "\n",
              "   Finished Duration StartYear EndYear       Season  \\\n",
              "0      True  Unknown      2001    2005    Fall 2001   \n",
              "1      True  Unknown      1995    1996    Fall 1995   \n",
              "2      True  Unknown      2005    2005  Summer 2005   \n",
              "3      True        5      2018    2018      Unknown   \n",
              "4      True        2      2017    2017      Unknown   \n",
              "\n",
              "                        Studios  \\\n",
              "0    Production I.G, Trans Arts   \n",
              "1  GAINAX, Tatsunoko Production   \n",
              "2               Kyoto Animation   \n",
              "3                       Unknown   \n",
              "4                Toei Animation   \n",
              "\n",
              "                                            Synopsis  \\\n",
              "0  Meet Ryoma Echizen, the cocky prince of tennis...   \n",
              "1  In the future, a devastating event known as Se...   \n",
              "2  Half a year has passed since Sousuke Sagara to...   \n",
              "3  The idol group 22/7 perform the song Shampoo n...   \n",
              "4                 No synopsis yet - check back soon!   \n",
              "\n",
              "                                                 Url  \n",
              "0  https://www.anime-planet.com/anime/the-prince-...  \n",
              "1  https://www.anime-planet.com/anime/neon-genesi...  \n",
              "2  https://www.anime-planet.com/anime/full-metal-...  \n",
              "3  https://www.anime-planet.com/anime/22-7-shampo...  \n",
              "4  https://www.anime-planet.com/anime/oshiri-tant...  "
            ],
            "text/html": [
              "\n",
              "  <div id=\"df-cb373385-da0e-45f3-bfc7-d74e6ac6c2d2\" class=\"colab-df-container\">\n",
              "    <div>\n",
              "<style scoped>\n",
              "    .dataframe tbody tr th:only-of-type {\n",
              "        vertical-align: middle;\n",
              "    }\n",
              "\n",
              "    .dataframe tbody tr th {\n",
              "        vertical-align: top;\n",
              "    }\n",
              "\n",
              "    .dataframe thead th {\n",
              "        text-align: right;\n",
              "    }\n",
              "</style>\n",
              "<table border=\"1\" class=\"dataframe\">\n",
              "  <thead>\n",
              "    <tr style=\"text-align: right;\">\n",
              "      <th></th>\n",
              "      <th>index</th>\n",
              "      <th>Anime-PlanetID</th>\n",
              "      <th>Name</th>\n",
              "      <th>Alternative Name</th>\n",
              "      <th>Rating Score</th>\n",
              "      <th>Number Votes</th>\n",
              "      <th>Tags</th>\n",
              "      <th>Content Warning</th>\n",
              "      <th>Type</th>\n",
              "      <th>Episodes</th>\n",
              "      <th>Finished</th>\n",
              "      <th>Duration</th>\n",
              "      <th>StartYear</th>\n",
              "      <th>EndYear</th>\n",
              "      <th>Season</th>\n",
              "      <th>Studios</th>\n",
              "      <th>Synopsis</th>\n",
              "      <th>Url</th>\n",
              "    </tr>\n",
              "  </thead>\n",
              "  <tbody>\n",
              "    <tr>\n",
              "      <th>0</th>\n",
              "      <td>0</td>\n",
              "      <td>10</td>\n",
              "      <td>The Prince of Tennis</td>\n",
              "      <td>Tennis no Ouji-sama</td>\n",
              "      <td>4.037</td>\n",
              "      <td>10889</td>\n",
              "      <td>Comedy, Drama, Shounen, Sports, Tennis, Based ...</td>\n",
              "      <td>Unknown</td>\n",
              "      <td>TV</td>\n",
              "      <td>178</td>\n",
              "      <td>True</td>\n",
              "      <td>Unknown</td>\n",
              "      <td>2001</td>\n",
              "      <td>2005</td>\n",
              "      <td>Fall 2001</td>\n",
              "      <td>Production I.G, Trans Arts</td>\n",
              "      <td>Meet Ryoma Echizen, the cocky prince of tennis...</td>\n",
              "      <td>https://www.anime-planet.com/anime/the-prince-...</td>\n",
              "    </tr>\n",
              "    <tr>\n",
              "      <th>1</th>\n",
              "      <td>1</td>\n",
              "      <td>100</td>\n",
              "      <td>Neon Genesis Evangelion</td>\n",
              "      <td>Shinseiki Evangelion</td>\n",
              "      <td>4.248</td>\n",
              "      <td>54463</td>\n",
              "      <td>Drama, Mecha, Sci Fi, Conspiracy, Kaijuu, Lone...</td>\n",
              "      <td>Emotional Abuse, Explicit Violence, Mature The...</td>\n",
              "      <td>TV</td>\n",
              "      <td>26</td>\n",
              "      <td>True</td>\n",
              "      <td>Unknown</td>\n",
              "      <td>1995</td>\n",
              "      <td>1996</td>\n",
              "      <td>Fall 1995</td>\n",
              "      <td>GAINAX, Tatsunoko Production</td>\n",
              "      <td>In the future, a devastating event known as Se...</td>\n",
              "      <td>https://www.anime-planet.com/anime/neon-genesi...</td>\n",
              "    </tr>\n",
              "    <tr>\n",
              "      <th>2</th>\n",
              "      <td>2</td>\n",
              "      <td>1000</td>\n",
              "      <td>Full Metal Panic! The Second Raid</td>\n",
              "      <td>Unknown</td>\n",
              "      <td>4.35</td>\n",
              "      <td>23948</td>\n",
              "      <td>Action, Comedy, Mecha, Sci Fi, Shounen, Milita...</td>\n",
              "      <td>Explicit Violence, Nudity</td>\n",
              "      <td>TV</td>\n",
              "      <td>13</td>\n",
              "      <td>True</td>\n",
              "      <td>Unknown</td>\n",
              "      <td>2005</td>\n",
              "      <td>2005</td>\n",
              "      <td>Summer 2005</td>\n",
              "      <td>Kyoto Animation</td>\n",
              "      <td>Half a year has passed since Sousuke Sagara to...</td>\n",
              "      <td>https://www.anime-planet.com/anime/full-metal-...</td>\n",
              "    </tr>\n",
              "    <tr>\n",
              "      <th>3</th>\n",
              "      <td>3</td>\n",
              "      <td>10000</td>\n",
              "      <td>22/7: Shampoo no Nioi ga Shita</td>\n",
              "      <td>Unknown</td>\n",
              "      <td>2.8</td>\n",
              "      <td>131</td>\n",
              "      <td>Idols, School Life, CG Animation</td>\n",
              "      <td>Unknown</td>\n",
              "      <td>Music</td>\n",
              "      <td>1</td>\n",
              "      <td>True</td>\n",
              "      <td>5</td>\n",
              "      <td>2018</td>\n",
              "      <td>2018</td>\n",
              "      <td>Unknown</td>\n",
              "      <td>Unknown</td>\n",
              "      <td>The idol group 22/7 perform the song Shampoo n...</td>\n",
              "      <td>https://www.anime-planet.com/anime/22-7-shampo...</td>\n",
              "    </tr>\n",
              "    <tr>\n",
              "      <th>4</th>\n",
              "      <td>4</td>\n",
              "      <td>10001</td>\n",
              "      <td>Oshiri Tantei: Puputto Fumutto Kaiketsu Dance</td>\n",
              "      <td>Unknown</td>\n",
              "      <td>1.271</td>\n",
              "      <td>21</td>\n",
              "      <td>Family Friendly</td>\n",
              "      <td>Unknown</td>\n",
              "      <td>Web</td>\n",
              "      <td>1</td>\n",
              "      <td>True</td>\n",
              "      <td>2</td>\n",
              "      <td>2017</td>\n",
              "      <td>2017</td>\n",
              "      <td>Unknown</td>\n",
              "      <td>Toei Animation</td>\n",
              "      <td>No synopsis yet - check back soon!</td>\n",
              "      <td>https://www.anime-planet.com/anime/oshiri-tant...</td>\n",
              "    </tr>\n",
              "  </tbody>\n",
              "</table>\n",
              "</div>\n",
              "    <div class=\"colab-df-buttons\">\n",
              "\n",
              "  <div class=\"colab-df-container\">\n",
              "    <button class=\"colab-df-convert\" onclick=\"convertToInteractive('df-cb373385-da0e-45f3-bfc7-d74e6ac6c2d2')\"\n",
              "            title=\"Convert this dataframe to an interactive table.\"\n",
              "            style=\"display:none;\">\n",
              "\n",
              "  <svg xmlns=\"http://www.w3.org/2000/svg\" height=\"24px\" viewBox=\"0 -960 960 960\">\n",
              "    <path d=\"M120-120v-720h720v720H120Zm60-500h600v-160H180v160Zm220 220h160v-160H400v160Zm0 220h160v-160H400v160ZM180-400h160v-160H180v160Zm440 0h160v-160H620v160ZM180-180h160v-160H180v160Zm440 0h160v-160H620v160Z\"/>\n",
              "  </svg>\n",
              "    </button>\n",
              "\n",
              "  <style>\n",
              "    .colab-df-container {\n",
              "      display:flex;\n",
              "      gap: 12px;\n",
              "    }\n",
              "\n",
              "    .colab-df-convert {\n",
              "      background-color: #E8F0FE;\n",
              "      border: none;\n",
              "      border-radius: 50%;\n",
              "      cursor: pointer;\n",
              "      display: none;\n",
              "      fill: #1967D2;\n",
              "      height: 32px;\n",
              "      padding: 0 0 0 0;\n",
              "      width: 32px;\n",
              "    }\n",
              "\n",
              "    .colab-df-convert:hover {\n",
              "      background-color: #E2EBFA;\n",
              "      box-shadow: 0px 1px 2px rgba(60, 64, 67, 0.3), 0px 1px 3px 1px rgba(60, 64, 67, 0.15);\n",
              "      fill: #174EA6;\n",
              "    }\n",
              "\n",
              "    .colab-df-buttons div {\n",
              "      margin-bottom: 4px;\n",
              "    }\n",
              "\n",
              "    [theme=dark] .colab-df-convert {\n",
              "      background-color: #3B4455;\n",
              "      fill: #D2E3FC;\n",
              "    }\n",
              "\n",
              "    [theme=dark] .colab-df-convert:hover {\n",
              "      background-color: #434B5C;\n",
              "      box-shadow: 0px 1px 3px 1px rgba(0, 0, 0, 0.15);\n",
              "      filter: drop-shadow(0px 1px 2px rgba(0, 0, 0, 0.3));\n",
              "      fill: #FFFFFF;\n",
              "    }\n",
              "  </style>\n",
              "\n",
              "    <script>\n",
              "      const buttonEl =\n",
              "        document.querySelector('#df-cb373385-da0e-45f3-bfc7-d74e6ac6c2d2 button.colab-df-convert');\n",
              "      buttonEl.style.display =\n",
              "        google.colab.kernel.accessAllowed ? 'block' : 'none';\n",
              "\n",
              "      async function convertToInteractive(key) {\n",
              "        const element = document.querySelector('#df-cb373385-da0e-45f3-bfc7-d74e6ac6c2d2');\n",
              "        const dataTable =\n",
              "          await google.colab.kernel.invokeFunction('convertToInteractive',\n",
              "                                                    [key], {});\n",
              "        if (!dataTable) return;\n",
              "\n",
              "        const docLinkHtml = 'Like what you see? Visit the ' +\n",
              "          '<a target=\"_blank\" href=https://colab.research.google.com/notebooks/data_table.ipynb>data table notebook</a>'\n",
              "          + ' to learn more about interactive tables.';\n",
              "        element.innerHTML = '';\n",
              "        dataTable['output_type'] = 'display_data';\n",
              "        await google.colab.output.renderOutput(dataTable, element);\n",
              "        const docLink = document.createElement('div');\n",
              "        docLink.innerHTML = docLinkHtml;\n",
              "        element.appendChild(docLink);\n",
              "      }\n",
              "    </script>\n",
              "  </div>\n",
              "\n",
              "\n",
              "<div id=\"df-fc4ed257-733d-4ed2-a669-ab4dea3ce1d1\">\n",
              "  <button class=\"colab-df-quickchart\" onclick=\"quickchart('df-fc4ed257-733d-4ed2-a669-ab4dea3ce1d1')\"\n",
              "            title=\"Suggest charts\"\n",
              "            style=\"display:none;\">\n",
              "\n",
              "<svg xmlns=\"http://www.w3.org/2000/svg\" height=\"24px\"viewBox=\"0 0 24 24\"\n",
              "     width=\"24px\">\n",
              "    <g>\n",
              "        <path d=\"M19 3H5c-1.1 0-2 .9-2 2v14c0 1.1.9 2 2 2h14c1.1 0 2-.9 2-2V5c0-1.1-.9-2-2-2zM9 17H7v-7h2v7zm4 0h-2V7h2v10zm4 0h-2v-4h2v4z\"/>\n",
              "    </g>\n",
              "</svg>\n",
              "  </button>\n",
              "\n",
              "<style>\n",
              "  .colab-df-quickchart {\n",
              "      --bg-color: #E8F0FE;\n",
              "      --fill-color: #1967D2;\n",
              "      --hover-bg-color: #E2EBFA;\n",
              "      --hover-fill-color: #174EA6;\n",
              "      --disabled-fill-color: #AAA;\n",
              "      --disabled-bg-color: #DDD;\n",
              "  }\n",
              "\n",
              "  [theme=dark] .colab-df-quickchart {\n",
              "      --bg-color: #3B4455;\n",
              "      --fill-color: #D2E3FC;\n",
              "      --hover-bg-color: #434B5C;\n",
              "      --hover-fill-color: #FFFFFF;\n",
              "      --disabled-bg-color: #3B4455;\n",
              "      --disabled-fill-color: #666;\n",
              "  }\n",
              "\n",
              "  .colab-df-quickchart {\n",
              "    background-color: var(--bg-color);\n",
              "    border: none;\n",
              "    border-radius: 50%;\n",
              "    cursor: pointer;\n",
              "    display: none;\n",
              "    fill: var(--fill-color);\n",
              "    height: 32px;\n",
              "    padding: 0;\n",
              "    width: 32px;\n",
              "  }\n",
              "\n",
              "  .colab-df-quickchart:hover {\n",
              "    background-color: var(--hover-bg-color);\n",
              "    box-shadow: 0 1px 2px rgba(60, 64, 67, 0.3), 0 1px 3px 1px rgba(60, 64, 67, 0.15);\n",
              "    fill: var(--button-hover-fill-color);\n",
              "  }\n",
              "\n",
              "  .colab-df-quickchart-complete:disabled,\n",
              "  .colab-df-quickchart-complete:disabled:hover {\n",
              "    background-color: var(--disabled-bg-color);\n",
              "    fill: var(--disabled-fill-color);\n",
              "    box-shadow: none;\n",
              "  }\n",
              "\n",
              "  .colab-df-spinner {\n",
              "    border: 2px solid var(--fill-color);\n",
              "    border-color: transparent;\n",
              "    border-bottom-color: var(--fill-color);\n",
              "    animation:\n",
              "      spin 1s steps(1) infinite;\n",
              "  }\n",
              "\n",
              "  @keyframes spin {\n",
              "    0% {\n",
              "      border-color: transparent;\n",
              "      border-bottom-color: var(--fill-color);\n",
              "      border-left-color: var(--fill-color);\n",
              "    }\n",
              "    20% {\n",
              "      border-color: transparent;\n",
              "      border-left-color: var(--fill-color);\n",
              "      border-top-color: var(--fill-color);\n",
              "    }\n",
              "    30% {\n",
              "      border-color: transparent;\n",
              "      border-left-color: var(--fill-color);\n",
              "      border-top-color: var(--fill-color);\n",
              "      border-right-color: var(--fill-color);\n",
              "    }\n",
              "    40% {\n",
              "      border-color: transparent;\n",
              "      border-right-color: var(--fill-color);\n",
              "      border-top-color: var(--fill-color);\n",
              "    }\n",
              "    60% {\n",
              "      border-color: transparent;\n",
              "      border-right-color: var(--fill-color);\n",
              "    }\n",
              "    80% {\n",
              "      border-color: transparent;\n",
              "      border-right-color: var(--fill-color);\n",
              "      border-bottom-color: var(--fill-color);\n",
              "    }\n",
              "    90% {\n",
              "      border-color: transparent;\n",
              "      border-bottom-color: var(--fill-color);\n",
              "    }\n",
              "  }\n",
              "</style>\n",
              "\n",
              "  <script>\n",
              "    async function quickchart(key) {\n",
              "      const quickchartButtonEl =\n",
              "        document.querySelector('#' + key + ' button');\n",
              "      quickchartButtonEl.disabled = true;  // To prevent multiple clicks.\n",
              "      quickchartButtonEl.classList.add('colab-df-spinner');\n",
              "      try {\n",
              "        const charts = await google.colab.kernel.invokeFunction(\n",
              "            'suggestCharts', [key], {});\n",
              "      } catch (error) {\n",
              "        console.error('Error during call to suggestCharts:', error);\n",
              "      }\n",
              "      quickchartButtonEl.classList.remove('colab-df-spinner');\n",
              "      quickchartButtonEl.classList.add('colab-df-quickchart-complete');\n",
              "    }\n",
              "    (() => {\n",
              "      let quickchartButtonEl =\n",
              "        document.querySelector('#df-fc4ed257-733d-4ed2-a669-ab4dea3ce1d1 button');\n",
              "      quickchartButtonEl.style.display =\n",
              "        google.colab.kernel.accessAllowed ? 'block' : 'none';\n",
              "    })();\n",
              "  </script>\n",
              "</div>\n",
              "\n",
              "    </div>\n",
              "  </div>\n"
            ],
            "application/vnd.google.colaboratory.intrinsic+json": {
              "type": "dataframe",
              "variable_name": "df",
              "summary": "{\n  \"name\": \"df\",\n  \"rows\": 16621,\n  \"fields\": [\n    {\n      \"column\": \"index\",\n      \"properties\": {\n        \"dtype\": \"number\",\n        \"std\": 4798,\n        \"min\": 0,\n        \"max\": 16620,\n        \"num_unique_values\": 16621,\n        \"samples\": [\n          6521,\n          10484,\n          4295\n        ],\n        \"semantic_type\": \"\",\n        \"description\": \"\"\n      }\n    },\n    {\n      \"column\": \"Anime-PlanetID\",\n      \"properties\": {\n        \"dtype\": \"number\",\n        \"std\": 4982,\n        \"min\": 2,\n        \"max\": 17231,\n        \"num_unique_values\": 16621,\n        \"samples\": [\n          1603,\n          4240,\n          14\n        ],\n        \"semantic_type\": \"\",\n        \"description\": \"\"\n      }\n    },\n    {\n      \"column\": \"Name\",\n      \"properties\": {\n        \"dtype\": \"string\",\n        \"num_unique_values\": 16619,\n        \"samples\": [\n          \"DAKAICHI: I'm being harassed by the sexiest man of the year\",\n          \"Hello Kitty no Sambiki no Kobuta\",\n          \"NieA Under 7\"\n        ],\n        \"semantic_type\": \"\",\n        \"description\": \"\"\n      }\n    },\n    {\n      \"column\": \"Alternative Name\",\n      \"properties\": {\n        \"dtype\": \"category\",\n        \"num_unique_values\": 7290,\n        \"samples\": [\n          \"Benghuai 3: Reburn\",\n          \"Chou Kidou Densetsu DinaGiga\",\n          \"Hello Kitty's Animation Theater: Thumbelina\"\n        ],\n        \"semantic_type\": \"\",\n        \"description\": \"\"\n      }\n    },\n    {\n      \"column\": \"Rating Score\",\n      \"properties\": {\n        \"dtype\": \"category\",\n        \"num_unique_values\": 3517,\n        \"samples\": [\n          \"4.254\",\n          \"2.684\",\n          \"1.654\"\n        ],\n        \"semantic_type\": \"\",\n        \"description\": \"\"\n      }\n    },\n    {\n      \"column\": \"Number Votes\",\n      \"properties\": {\n        \"dtype\": \"category\",\n        \"num_unique_values\": 4026,\n        \"samples\": [\n          \"4637\",\n          \"1684\",\n          \"8596\"\n        ],\n        \"semantic_type\": \"\",\n        \"description\": \"\"\n      }\n    },\n    {\n      \"column\": \"Tags\",\n      \"properties\": {\n        \"dtype\": \"string\",\n        \"num_unique_values\": 10782,\n        \"samples\": [\n          \"Comedy, Otaku Culture, School Club, Short Episodes, Shorts, Flash Animation, Original Work\",\n          \"Action, Ecchi, Fantasy, Crossover, Short Episodes\",\n          \"Slice of Life, Anthropomorphic, Chibi, Countryside, Family Friendly, Iyashikei, Shorts\"\n        ],\n        \"semantic_type\": \"\",\n        \"description\": \"\"\n      }\n    },\n    {\n      \"column\": \"Content Warning\",\n      \"properties\": {\n        \"dtype\": \"category\",\n        \"num_unique_values\": 207,\n        \"samples\": [\n          \"Emotional Abuse, Explicit Violence, Mature Themes, Nudity, Physical Abuse\",\n          \"Explicit Violence\",\n          \"Drug Use, Mature Themes, Nudity\"\n        ],\n        \"semantic_type\": \"\",\n        \"description\": \"\"\n      }\n    },\n    {\n      \"column\": \"Type\",\n      \"properties\": {\n        \"dtype\": \"category\",\n        \"num_unique_values\": 8,\n        \"samples\": [\n          \"Music\",\n          \"OVA\",\n          \"TV\"\n        ],\n        \"semantic_type\": \"\",\n        \"description\": \"\"\n      }\n    },\n    {\n      \"column\": \"Episodes\",\n      \"properties\": {\n        \"dtype\": \"category\",\n        \"num_unique_values\": 215,\n        \"samples\": [\n          \"199\",\n          \"1818\",\n          \"67\"\n        ],\n        \"semantic_type\": \"\",\n        \"description\": \"\"\n      }\n    },\n    {\n      \"column\": \"Finished\",\n      \"properties\": {\n        \"dtype\": \"boolean\",\n        \"num_unique_values\": 2,\n        \"samples\": [\n          false,\n          true\n        ],\n        \"semantic_type\": \"\",\n        \"description\": \"\"\n      }\n    },\n    {\n      \"column\": \"Duration\",\n      \"properties\": {\n        \"dtype\": \"category\",\n        \"num_unique_values\": 151,\n        \"samples\": [\n          \"78\",\n          \"50\"\n        ],\n        \"semantic_type\": \"\",\n        \"description\": \"\"\n      }\n    },\n    {\n      \"column\": \"StartYear\",\n      \"properties\": {\n        \"dtype\": \"category\",\n        \"num_unique_values\": 104,\n        \"samples\": [\n          \"1999\",\n          \"1965\"\n        ],\n        \"semantic_type\": \"\",\n        \"description\": \"\"\n      }\n    },\n    {\n      \"column\": \"EndYear\",\n      \"properties\": {\n        \"dtype\": \"category\",\n        \"num_unique_values\": 104,\n        \"samples\": [\n          \"2008\",\n          \"1965\"\n        ],\n        \"semantic_type\": \"\",\n        \"description\": \"\"\n      }\n    },\n    {\n      \"column\": \"Season\",\n      \"properties\": {\n        \"dtype\": \"category\",\n        \"num_unique_values\": 111,\n        \"samples\": [\n          \"Fall 1999\",\n          \"Summer 2018\"\n        ],\n        \"semantic_type\": \"\",\n        \"description\": \"\"\n      }\n    },\n    {\n      \"column\": \"Studios\",\n      \"properties\": {\n        \"dtype\": \"category\",\n        \"num_unique_values\": 1045,\n        \"samples\": [\n          \"Plum, Studio Guts\",\n          \"Pastel\"\n        ],\n        \"semantic_type\": \"\",\n        \"description\": \"\"\n      }\n    },\n    {\n      \"column\": \"Synopsis\",\n      \"properties\": {\n        \"dtype\": \"string\",\n        \"num_unique_values\": 9067,\n        \"samples\": [\n          \"Goro\\u2019s sporting adventures continue, only this time he is in the land where baseball was born \\u2013 America! Not only are his opponents bigger, tougher, and more determined than ever before, but even his teammates are ultimately competitors in the grueling race for the Major Leagues. Add to that the culture shock and language barriers and it is clear he has his work cut out for him. Still, Goro has never been closer to his dream of the Major Leagues and, as far as he is concerned, the bigger the challenge, the sweeter the victory!\",\n          \"Higepiyo is just like any other chick; he's small, yellow, and... has a beard?! With an imposing presence and his constant sighing, it's not surprising that Higepiyo is the last chick left at the festival stand. Luckily for the now-depressed salesman, Hiroshi and his parents decide to buy Higepiyo for their own bizarre reasons. It's only when the family get him home that they realize just how weird this chick really is. From reading the newspaper to attacking the school bullies over a bread roll, Higepiyo is far from your average pet. Now Hiroshi and his parents must adapt to living with this food-crazed, talking chick - that is, if they can stop living in fear of their new pet! They just have to remember that while Higepiyo may not be cute, he may have a beard and he may ask for a second helping of curry, he's still a chick just the same!\"\n        ],\n        \"semantic_type\": \"\",\n        \"description\": \"\"\n      }\n    },\n    {\n      \"column\": \"Url\",\n      \"properties\": {\n        \"dtype\": \"string\",\n        \"num_unique_values\": 16621,\n        \"samples\": [\n          \"https://www.anime-planet.com/anime/kirarin-revolution\",\n          \"https://www.anime-planet.com/anime/astroganger\"\n        ],\n        \"semantic_type\": \"\",\n        \"description\": \"\"\n      }\n    }\n  ]\n}"
            }
          },
          "metadata": {},
          "execution_count": 6
        }
      ]
    },
    {
      "cell_type": "code",
      "source": [
        "df.columns"
      ],
      "metadata": {
        "id": "ndnKXWVVoPQk",
        "outputId": "ccfe9ab7-4e64-4ae3-c911-cb74ecb4c049",
        "colab": {
          "base_uri": "https://localhost:8080/"
        }
      },
      "execution_count": 7,
      "outputs": [
        {
          "output_type": "execute_result",
          "data": {
            "text/plain": [
              "Index(['index', 'Anime-PlanetID', 'Name', 'Alternative Name', 'Rating Score',\n",
              "       'Number Votes', 'Tags', 'Content Warning', 'Type', 'Episodes',\n",
              "       'Finished', 'Duration', 'StartYear', 'EndYear', 'Season', 'Studios',\n",
              "       'Synopsis', 'Url'],\n",
              "      dtype='object')"
            ]
          },
          "metadata": {},
          "execution_count": 7
        }
      ]
    },
    {
      "cell_type": "code",
      "source": [
        "features = ['Rating Score','Number Votes','Studios','Synopsis', 'Tags', 'Episodes']"
      ],
      "metadata": {
        "id": "I-x_8bHbom_1"
      },
      "execution_count": 8,
      "outputs": []
    },
    {
      "cell_type": "code",
      "source": [
        "def combined_features(row):\n",
        "    return str(row[\"Rating Score\"])+\" \"+ str(row[\"Number Votes\"])+\" \"+ str(row[\"Studios\"])+\" \"+ str(row[\"Synopsis\"])+\" \"+ str(row[\"Tags\"])+\" \"+ str(row[\"Episodes\"])+\" \"\n",
        "\n",
        "def get_title_from_index(index):\n",
        "    return df[df[\"index\"] == index][\"Name\"].values[0]\n",
        "def get_index_from_title(title):\n",
        "    return df[df[\"Name\"] == title][\"index\"].values[0]"
      ],
      "metadata": {
        "id": "Pq9n5-3MopVQ"
      },
      "execution_count": 19,
      "outputs": []
    },
    {
      "cell_type": "code",
      "source": [
        "df[\"combined_feature\"]=df.apply(combined_features,axis=1)\n",
        "df[\"combined_feature\"].head()"
      ],
      "metadata": {
        "id": "ua4iTAmFospj",
        "outputId": "7ac6bce7-d5ea-4c55-c54e-a170b3f2b31e",
        "colab": {
          "base_uri": "https://localhost:8080/",
          "height": 241
        }
      },
      "execution_count": 11,
      "outputs": [
        {
          "output_type": "execute_result",
          "data": {
            "text/plain": [
              "0    4.037 10889 Production I.G, Trans Arts Meet Ry...\n",
              "1    4.248 54463 GAINAX, Tatsunoko Production In th...\n",
              "2    4.35 23948 Kyoto Animation Half a year has pas...\n",
              "3    2.8 131 Unknown The idol group 22/7 perform th...\n",
              "4    1.271 21 Toei Animation No synopsis yet - chec...\n",
              "Name: combined_feature, dtype: object"
            ],
            "text/html": [
              "<div>\n",
              "<style scoped>\n",
              "    .dataframe tbody tr th:only-of-type {\n",
              "        vertical-align: middle;\n",
              "    }\n",
              "\n",
              "    .dataframe tbody tr th {\n",
              "        vertical-align: top;\n",
              "    }\n",
              "\n",
              "    .dataframe thead th {\n",
              "        text-align: right;\n",
              "    }\n",
              "</style>\n",
              "<table border=\"1\" class=\"dataframe\">\n",
              "  <thead>\n",
              "    <tr style=\"text-align: right;\">\n",
              "      <th></th>\n",
              "      <th>combined_feature</th>\n",
              "    </tr>\n",
              "  </thead>\n",
              "  <tbody>\n",
              "    <tr>\n",
              "      <th>0</th>\n",
              "      <td>4.037 10889 Production I.G, Trans Arts Meet Ry...</td>\n",
              "    </tr>\n",
              "    <tr>\n",
              "      <th>1</th>\n",
              "      <td>4.248 54463 GAINAX, Tatsunoko Production In th...</td>\n",
              "    </tr>\n",
              "    <tr>\n",
              "      <th>2</th>\n",
              "      <td>4.35 23948 Kyoto Animation Half a year has pas...</td>\n",
              "    </tr>\n",
              "    <tr>\n",
              "      <th>3</th>\n",
              "      <td>2.8 131 Unknown The idol group 22/7 perform th...</td>\n",
              "    </tr>\n",
              "    <tr>\n",
              "      <th>4</th>\n",
              "      <td>1.271 21 Toei Animation No synopsis yet - chec...</td>\n",
              "    </tr>\n",
              "  </tbody>\n",
              "</table>\n",
              "</div><br><label><b>dtype:</b> object</label>"
            ]
          },
          "metadata": {},
          "execution_count": 11
        }
      ]
    },
    {
      "cell_type": "code",
      "source": [
        "cv = CountVectorizer()\n",
        "count_matrix=cv.fit_transform(df[\"combined_feature\"])"
      ],
      "metadata": {
        "id": "aXfircQtoyPE"
      },
      "execution_count": 15,
      "outputs": []
    },
    {
      "cell_type": "code",
      "source": [
        "anime_liked = \"One Piece\"\n",
        "cosine_sim = cosine_similarity(count_matrix)"
      ],
      "metadata": {
        "id": "zrecDiMDo8n4"
      },
      "execution_count": 21,
      "outputs": []
    },
    {
      "cell_type": "code",
      "source": [
        "liked_movie_index = cosine_sim[get_index_from_title(anime_liked)]\n",
        "similar_anime = list(enumerate(liked_movie_index))\n",
        "similar_anime.sort(key = lambda row: row[1],reverse=True)\n",
        "for i in range(10):\n",
        "    print(get_title_from_index(similar_anime[i][0]))"
      ],
      "metadata": {
        "id": "TJVLv-wWpDP0",
        "outputId": "d19e9c1f-d2f4-45b9-8b64-f3e20f397da7",
        "colab": {
          "base_uri": "https://localhost:8080/"
        }
      },
      "execution_count": 22,
      "outputs": [
        {
          "output_type": "stream",
          "name": "stdout",
          "text": [
            "One Piece\n",
            "One Piece Recap\n",
            "Princess Mononoke\n",
            "One Piece Movie 10: Strong World\n",
            "One Piece: Dream Soccer King!\n",
            "One Piece Movie 9: Episode of Chopper - The Miracle Winter Cherry Blossom\n",
            "Sekai Meisaku Douwa: Aladdin to Mahou no Lamp\n",
            "Nura: Rise of the Youkai Clan\n",
            "Nodame Cantabile: Special Lesson\n",
            "B-Legend! Battle B-Daman\n"
          ]
        }
      ]
    },
    {
      "cell_type": "code",
      "source": [
        "import pickle\n",
        "with open('model.pkl','wb') as f:\n",
        "    pickle.dump(cosine_sim,f)"
      ],
      "metadata": {
        "id": "YkeioNIlpfTs"
      },
      "execution_count": 23,
      "outputs": []
    },
    {
      "cell_type": "code",
      "source": [],
      "metadata": {
        "id": "Nb141TsgrWi6"
      },
      "execution_count": null,
      "outputs": []
    }
  ],
  "metadata": {
    "colab": {
      "name": "Welcome To Colab",
      "provenance": [],
      "include_colab_link": true
    },
    "kernelspec": {
      "display_name": "Python 3",
      "name": "python3"
    }
  },
  "nbformat": 4,
  "nbformat_minor": 0
}